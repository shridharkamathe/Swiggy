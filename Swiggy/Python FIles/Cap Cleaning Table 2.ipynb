{
 "cells": [
  {
   "cell_type": "code",
   "execution_count": 44,
   "id": "c2bf4da6",
   "metadata": {},
   "outputs": [],
   "source": [
    "import pandas as pd\n",
    "import numpy as np"
   ]
  },
  {
   "cell_type": "code",
   "execution_count": 2,
   "id": "fb16c6ae",
   "metadata": {},
   "outputs": [],
   "source": [
    "df = pd.read_excel(\"Restaurant_Details.xlsx\")"
   ]
  },
  {
   "cell_type": "code",
   "execution_count": 3,
   "id": "647b053f",
   "metadata": {},
   "outputs": [
    {
     "data": {
      "text/html": [
       "<div>\n",
       "<style scoped>\n",
       "    .dataframe tbody tr th:only-of-type {\n",
       "        vertical-align: middle;\n",
       "    }\n",
       "\n",
       "    .dataframe tbody tr th {\n",
       "        vertical-align: top;\n",
       "    }\n",
       "\n",
       "    .dataframe thead th {\n",
       "        text-align: right;\n",
       "    }\n",
       "</style>\n",
       "<table border=\"1\" class=\"dataframe\">\n",
       "  <thead>\n",
       "    <tr style=\"text-align: right;\">\n",
       "      <th></th>\n",
       "      <th>Rs_ID</th>\n",
       "      <th>RS_Name</th>\n",
       "      <th>RS_Location</th>\n",
       "      <th>Dish_category</th>\n",
       "      <th>Dish_Name</th>\n",
       "      <th>Dish_Price</th>\n",
       "      <th>Rs_Ratings_Received (Num.)</th>\n",
       "    </tr>\n",
       "  </thead>\n",
       "  <tbody>\n",
       "    <tr>\n",
       "      <th>0</th>\n",
       "      <td>RS_1</td>\n",
       "      <td>Hotel Empire</td>\n",
       "      <td>Brigade Road</td>\n",
       "      <td>North Indian</td>\n",
       "      <td>Empire Special Chilly Kebab</td>\n",
       "      <td>120</td>\n",
       "      <td>10000.0</td>\n",
       "    </tr>\n",
       "    <tr>\n",
       "      <th>1</th>\n",
       "      <td>RS_1</td>\n",
       "      <td>Hotel Empire</td>\n",
       "      <td>Brigade Road</td>\n",
       "      <td>Kebabs</td>\n",
       "      <td>Popcorn Chicken Kebab</td>\n",
       "      <td>134</td>\n",
       "      <td>10000.0</td>\n",
       "    </tr>\n",
       "    <tr>\n",
       "      <th>2</th>\n",
       "      <td>RS_1</td>\n",
       "      <td>Hotel Empire</td>\n",
       "      <td>Brigade Road</td>\n",
       "      <td>Biryani</td>\n",
       "      <td>Grilled Chicken</td>\n",
       "      <td>210</td>\n",
       "      <td>10000.0</td>\n",
       "    </tr>\n",
       "    <tr>\n",
       "      <th>3</th>\n",
       "      <td>RS_1</td>\n",
       "      <td>Hotel Empire</td>\n",
       "      <td>Brigade Road</td>\n",
       "      <td>Kebabs</td>\n",
       "      <td>Empire Special Chicken Kebab</td>\n",
       "      <td>105</td>\n",
       "      <td>10000.0</td>\n",
       "    </tr>\n",
       "    <tr>\n",
       "      <th>4</th>\n",
       "      <td>RS_1</td>\n",
       "      <td>Hotel Empire</td>\n",
       "      <td>Brigade Road</td>\n",
       "      <td>Andhra</td>\n",
       "      <td>Bucket Chicken Biriyani</td>\n",
       "      <td>1199</td>\n",
       "      <td>10000.0</td>\n",
       "    </tr>\n",
       "  </tbody>\n",
       "</table>\n",
       "</div>"
      ],
      "text/plain": [
       "  Rs_ID       RS_Name   RS_Location Dish_category  \\\n",
       "0  RS_1  Hotel Empire  Brigade Road  North Indian   \n",
       "1  RS_1  Hotel Empire  Brigade Road        Kebabs   \n",
       "2  RS_1  Hotel Empire  Brigade Road       Biryani   \n",
       "3  RS_1  Hotel Empire  Brigade Road        Kebabs   \n",
       "4  RS_1  Hotel Empire  Brigade Road        Andhra   \n",
       "\n",
       "                      Dish_Name Dish_Price  Rs_Ratings_Received (Num.)  \n",
       "0   Empire Special Chilly Kebab        120                     10000.0  \n",
       "1         Popcorn Chicken Kebab        134                     10000.0  \n",
       "2               Grilled Chicken        210                     10000.0  \n",
       "3  Empire Special Chicken Kebab        105                     10000.0  \n",
       "4       Bucket Chicken Biriyani       1199                     10000.0  "
      ]
     },
     "execution_count": 3,
     "metadata": {},
     "output_type": "execute_result"
    }
   ],
   "source": [
    "df.head()"
   ]
  },
  {
   "cell_type": "code",
   "execution_count": 4,
   "id": "36b01593",
   "metadata": {},
   "outputs": [],
   "source": [
    "# pd.set_option('display.max_rows', None)"
   ]
  },
  {
   "cell_type": "code",
   "execution_count": 5,
   "id": "5ee4dabc",
   "metadata": {},
   "outputs": [
    {
     "data": {
      "text/html": [
       "<div>\n",
       "<style scoped>\n",
       "    .dataframe tbody tr th:only-of-type {\n",
       "        vertical-align: middle;\n",
       "    }\n",
       "\n",
       "    .dataframe tbody tr th {\n",
       "        vertical-align: top;\n",
       "    }\n",
       "\n",
       "    .dataframe thead th {\n",
       "        text-align: right;\n",
       "    }\n",
       "</style>\n",
       "<table border=\"1\" class=\"dataframe\">\n",
       "  <thead>\n",
       "    <tr style=\"text-align: right;\">\n",
       "      <th></th>\n",
       "      <th>Rs_ID</th>\n",
       "      <th>RS_Name</th>\n",
       "      <th>RS_Location</th>\n",
       "      <th>Dish_category</th>\n",
       "      <th>Dish_Name</th>\n",
       "      <th>Dish_Price</th>\n",
       "      <th>Rs_Ratings_Received (Num.)</th>\n",
       "    </tr>\n",
       "  </thead>\n",
       "  <tbody>\n",
       "    <tr>\n",
       "      <th>0</th>\n",
       "      <td>RS_1</td>\n",
       "      <td>Hotel Empire</td>\n",
       "      <td>Brigade Road</td>\n",
       "      <td>North Indian</td>\n",
       "      <td>empire special chilly kebab</td>\n",
       "      <td>120</td>\n",
       "      <td>10000.0</td>\n",
       "    </tr>\n",
       "    <tr>\n",
       "      <th>1</th>\n",
       "      <td>RS_1</td>\n",
       "      <td>Hotel Empire</td>\n",
       "      <td>Brigade Road</td>\n",
       "      <td>Kebabs</td>\n",
       "      <td>popcorn chicken kebab</td>\n",
       "      <td>134</td>\n",
       "      <td>10000.0</td>\n",
       "    </tr>\n",
       "    <tr>\n",
       "      <th>2</th>\n",
       "      <td>RS_1</td>\n",
       "      <td>Hotel Empire</td>\n",
       "      <td>Brigade Road</td>\n",
       "      <td>Biryani</td>\n",
       "      <td>grilled chicken</td>\n",
       "      <td>210</td>\n",
       "      <td>10000.0</td>\n",
       "    </tr>\n",
       "    <tr>\n",
       "      <th>3</th>\n",
       "      <td>RS_1</td>\n",
       "      <td>Hotel Empire</td>\n",
       "      <td>Brigade Road</td>\n",
       "      <td>Kebabs</td>\n",
       "      <td>empire special chicken kebab</td>\n",
       "      <td>105</td>\n",
       "      <td>10000.0</td>\n",
       "    </tr>\n",
       "    <tr>\n",
       "      <th>4</th>\n",
       "      <td>RS_1</td>\n",
       "      <td>Hotel Empire</td>\n",
       "      <td>Brigade Road</td>\n",
       "      <td>Andhra</td>\n",
       "      <td>bucket chicken biriyani</td>\n",
       "      <td>1199</td>\n",
       "      <td>10000.0</td>\n",
       "    </tr>\n",
       "  </tbody>\n",
       "</table>\n",
       "</div>"
      ],
      "text/plain": [
       "  Rs_ID       RS_Name   RS_Location Dish_category  \\\n",
       "0  RS_1  Hotel Empire  Brigade Road  North Indian   \n",
       "1  RS_1  Hotel Empire  Brigade Road        Kebabs   \n",
       "2  RS_1  Hotel Empire  Brigade Road       Biryani   \n",
       "3  RS_1  Hotel Empire  Brigade Road        Kebabs   \n",
       "4  RS_1  Hotel Empire  Brigade Road        Andhra   \n",
       "\n",
       "                      Dish_Name Dish_Price  Rs_Ratings_Received (Num.)  \n",
       "0   empire special chilly kebab        120                     10000.0  \n",
       "1         popcorn chicken kebab        134                     10000.0  \n",
       "2               grilled chicken        210                     10000.0  \n",
       "3  empire special chicken kebab        105                     10000.0  \n",
       "4       bucket chicken biriyani       1199                     10000.0  "
      ]
     },
     "execution_count": 5,
     "metadata": {},
     "output_type": "execute_result"
    }
   ],
   "source": [
    "df[\"Dish_Name\"] = df[\"Dish_Name\"].str.lower()\n",
    "df.head()"
   ]
  },
  {
   "cell_type": "code",
   "execution_count": 6,
   "id": "f7763c96",
   "metadata": {},
   "outputs": [
    {
     "data": {
      "text/plain": [
       "(12639,)"
      ]
     },
     "execution_count": 6,
     "metadata": {},
     "output_type": "execute_result"
    }
   ],
   "source": [
    "df.Dish_Name.unique().shape"
   ]
  },
  {
   "cell_type": "code",
   "execution_count": 8,
   "id": "025cdb9a",
   "metadata": {},
   "outputs": [
    {
     "data": {
      "text/plain": [
       "(26773, 7)"
      ]
     },
     "execution_count": 8,
     "metadata": {},
     "output_type": "execute_result"
    }
   ],
   "source": [
    "df.shape"
   ]
  },
  {
   "cell_type": "code",
   "execution_count": 39,
   "id": "fc8af12e",
   "metadata": {},
   "outputs": [],
   "source": [
    "biryani = df.loc[df['Dish_Name'].str.contains(\"biryani|biriyani\"), 'Dish_Name']"
   ]
  },
  {
   "cell_type": "code",
   "execution_count": 40,
   "id": "6b7bd764",
   "metadata": {},
   "outputs": [
    {
     "data": {
      "text/plain": [
       "(1062,)"
      ]
     },
     "execution_count": 40,
     "metadata": {},
     "output_type": "execute_result"
    }
   ],
   "source": [
    "biryani.shape"
   ]
  },
  {
   "cell_type": "code",
   "execution_count": 11,
   "id": "04e52314",
   "metadata": {},
   "outputs": [],
   "source": [
    "chinese = df.loc[df['Dish_Name'].str.contains(\"hakka|chilli|noodles|manchurian|schezwan|fried|spring|momo|fry|momos|roll\"), 'Dish_Name']"
   ]
  },
  {
   "cell_type": "code",
   "execution_count": 12,
   "id": "e41ef0ce",
   "metadata": {},
   "outputs": [
    {
     "data": {
      "text/plain": [
       "(3687,)"
      ]
     },
     "execution_count": 12,
     "metadata": {},
     "output_type": "execute_result"
    }
   ],
   "source": [
    "chinese.shape"
   ]
  },
  {
   "cell_type": "code",
   "execution_count": 13,
   "id": "63d28b4f",
   "metadata": {},
   "outputs": [],
   "source": [
    "south = df.loc[df['Dish_Name'].str.contains(\"dosa|upma|utappam|vada|idli|bath|sambar|rava|podi|south|pongal|appam|benne|rasam\"), 'Dish_Name']"
   ]
  },
  {
   "cell_type": "code",
   "execution_count": 14,
   "id": "51cdb26a",
   "metadata": {},
   "outputs": [
    {
     "data": {
      "text/plain": [
       "(1751,)"
      ]
     },
     "execution_count": 14,
     "metadata": {},
     "output_type": "execute_result"
    }
   ],
   "source": [
    "south.shape"
   ]
  },
  {
   "cell_type": "code",
   "execution_count": 15,
   "id": "d6a1615a",
   "metadata": {},
   "outputs": [],
   "source": [
    "beverage = df.loc[df['Dish_Name'].str.contains(\"coffee|tea|milk|shake|juice\"), 'Dish_Name']"
   ]
  },
  {
   "cell_type": "code",
   "execution_count": 16,
   "id": "9dfd963f",
   "metadata": {},
   "outputs": [
    {
     "data": {
      "text/plain": [
       "(1488,)"
      ]
     },
     "execution_count": 16,
     "metadata": {},
     "output_type": "execute_result"
    }
   ],
   "source": [
    "beverage.shape"
   ]
  },
  {
   "cell_type": "code",
   "execution_count": 17,
   "id": "bd315b1f",
   "metadata": {},
   "outputs": [
    {
     "data": {
      "text/plain": [
       "(945,)"
      ]
     },
     "execution_count": 17,
     "metadata": {},
     "output_type": "execute_result"
    }
   ],
   "source": [
    "biryani.shape"
   ]
  },
  {
   "cell_type": "code",
   "execution_count": 33,
   "id": "a1196f71",
   "metadata": {},
   "outputs": [],
   "source": [
    "north = df.loc[df['Dish_Name'].str.contains(\"dal|north|tandoor|kadai|punjabi|shahi|kofta|naan|chole|chola|bhature|bhatura|roti|amritsari|saag|kulcha|malai|handi|matar|aloo|paratha|kebab|kabab\"), 'Dish_Name']"
   ]
  },
  {
   "cell_type": "code",
   "execution_count": 34,
   "id": "79c89c22",
   "metadata": {},
   "outputs": [
    {
     "data": {
      "text/plain": [
       "(3065,)"
      ]
     },
     "execution_count": 34,
     "metadata": {},
     "output_type": "execute_result"
    }
   ],
   "source": [
    "north.shape"
   ]
  },
  {
   "cell_type": "code",
   "execution_count": 20,
   "id": "f45c0ebf",
   "metadata": {},
   "outputs": [],
   "source": [
    "desserts = df.loc[df['Dish_Name'].str.contains(\"cake|mousse|cookie|pie|brownie|tiramisu|gellato\"), 'Dish_Name']"
   ]
  },
  {
   "cell_type": "code",
   "execution_count": 21,
   "id": "27180254",
   "metadata": {},
   "outputs": [
    {
     "data": {
      "text/plain": [
       "(1390,)"
      ]
     },
     "execution_count": 21,
     "metadata": {},
     "output_type": "execute_result"
    }
   ],
   "source": [
    "desserts.shape"
   ]
  },
  {
   "cell_type": "code",
   "execution_count": 22,
   "id": "a568be72",
   "metadata": {},
   "outputs": [],
   "source": [
    "fast = df.loc[df['Dish_Name'].str.contains(\"burger|sandwich|nachos|pizza|tacos|pasta|mac|spaghetti|pesto|ravioli|fries|burrito|lasagne|lasagna|ravioli|american\"), 'Dish_Name']"
   ]
  },
  {
   "cell_type": "code",
   "execution_count": 23,
   "id": "3db1646c",
   "metadata": {},
   "outputs": [
    {
     "data": {
      "text/plain": [
       "(2549,)"
      ]
     },
     "execution_count": 23,
     "metadata": {},
     "output_type": "execute_result"
    }
   ],
   "source": [
    "fast.shape"
   ]
  },
  {
   "cell_type": "code",
   "execution_count": 24,
   "id": "a940af7b",
   "metadata": {},
   "outputs": [
    {
     "data": {
      "text/plain": [
       "1                     popcorn chicken kebab\n",
       "2                           grilled chicken\n",
       "3              empire special chicken kebab\n",
       "4                   bucket chicken biriyani\n",
       "5        bucket biriyani with chicken kabab\n",
       "                        ...                \n",
       "26715                  chicken manchow soup\n",
       "26716                   chicken wanton soup\n",
       "26726              grilled chicken sandwich\n",
       "26752                       chicken biryani\n",
       "26764                         chicken tikka\n",
       "Name: Dish_Name, Length: 4585, dtype: object"
      ]
     },
     "execution_count": 24,
     "metadata": {},
     "output_type": "execute_result"
    }
   ],
   "source": [
    "chicken = df.loc[df['Dish_Name'].str.contains(\"chicken\"), 'Dish_Name']\n",
    "chicken"
   ]
  },
  {
   "cell_type": "code",
   "execution_count": 25,
   "id": "b0f52ad1",
   "metadata": {},
   "outputs": [
    {
     "data": {
      "text/plain": [
       "(4585,)"
      ]
     },
     "execution_count": 25,
     "metadata": {},
     "output_type": "execute_result"
    }
   ],
   "source": [
    "chicken.shape"
   ]
  },
  {
   "cell_type": "code",
   "execution_count": 35,
   "id": "ef46f220",
   "metadata": {},
   "outputs": [
    {
     "ename": "AttributeError",
     "evalue": "'list' object has no attribute 'tolist'",
     "output_type": "error",
     "traceback": [
      "\u001b[0;31m---------------------------------------------------------------------------\u001b[0m",
      "\u001b[0;31mAttributeError\u001b[0m                            Traceback (most recent call last)",
      "Cell \u001b[0;32mIn[35], line 1\u001b[0m\n\u001b[0;32m----> 1\u001b[0m chinese \u001b[38;5;241m=\u001b[39m \u001b[43mchinese\u001b[49m\u001b[38;5;241;43m.\u001b[39;49m\u001b[43mtolist\u001b[49m()\n\u001b[1;32m      2\u001b[0m south\u001b[38;5;241m=\u001b[39m south\u001b[38;5;241m.\u001b[39mtolist()\n\u001b[1;32m      3\u001b[0m north \u001b[38;5;241m=\u001b[39m north\u001b[38;5;241m.\u001b[39mtolist()\n",
      "\u001b[0;31mAttributeError\u001b[0m: 'list' object has no attribute 'tolist'"
     ]
    }
   ],
   "source": [
    "chinese = chinese.tolist()\n",
    "south= south.tolist()\n",
    "# north = north.tolist()\n",
    "fast = fast.tolist()\n",
    "desserts = desserts.tolist()\n",
    "# biryani = biryani.tolist()\n",
    "beverage = beverage.tolist()"
   ]
  },
  {
   "cell_type": "code",
   "execution_count": 37,
   "id": "3a40f3d8",
   "metadata": {},
   "outputs": [],
   "source": [
    "north = north.tolist()"
   ]
  },
  {
   "cell_type": "code",
   "execution_count": 41,
   "id": "5ab2bb85",
   "metadata": {},
   "outputs": [],
   "source": [
    "biryani = biryani.tolist()"
   ]
  },
  {
   "cell_type": "code",
   "execution_count": 45,
   "id": "789d7c05",
   "metadata": {},
   "outputs": [
    {
     "data": {
      "text/html": [
       "<div>\n",
       "<style scoped>\n",
       "    .dataframe tbody tr th:only-of-type {\n",
       "        vertical-align: middle;\n",
       "    }\n",
       "\n",
       "    .dataframe tbody tr th {\n",
       "        vertical-align: top;\n",
       "    }\n",
       "\n",
       "    .dataframe thead th {\n",
       "        text-align: right;\n",
       "    }\n",
       "</style>\n",
       "<table border=\"1\" class=\"dataframe\">\n",
       "  <thead>\n",
       "    <tr style=\"text-align: right;\">\n",
       "      <th></th>\n",
       "      <th>Rs_ID</th>\n",
       "      <th>RS_Name</th>\n",
       "      <th>RS_Location</th>\n",
       "      <th>Dish_Name</th>\n",
       "      <th>Dish_Price</th>\n",
       "      <th>Rs_Ratings_Received (Num.)</th>\n",
       "      <th>Category</th>\n",
       "    </tr>\n",
       "  </thead>\n",
       "  <tbody>\n",
       "    <tr>\n",
       "      <th>0</th>\n",
       "      <td>RS_1</td>\n",
       "      <td>Hotel Empire</td>\n",
       "      <td>Brigade Road</td>\n",
       "      <td>empire special chilly kebab</td>\n",
       "      <td>120</td>\n",
       "      <td>10000.0</td>\n",
       "      <td>North Indian</td>\n",
       "    </tr>\n",
       "    <tr>\n",
       "      <th>1</th>\n",
       "      <td>RS_1</td>\n",
       "      <td>Hotel Empire</td>\n",
       "      <td>Brigade Road</td>\n",
       "      <td>popcorn chicken kebab</td>\n",
       "      <td>134</td>\n",
       "      <td>10000.0</td>\n",
       "      <td>North Indian</td>\n",
       "    </tr>\n",
       "    <tr>\n",
       "      <th>2</th>\n",
       "      <td>RS_1</td>\n",
       "      <td>Hotel Empire</td>\n",
       "      <td>Brigade Road</td>\n",
       "      <td>grilled chicken</td>\n",
       "      <td>210</td>\n",
       "      <td>10000.0</td>\n",
       "      <td>NaN</td>\n",
       "    </tr>\n",
       "    <tr>\n",
       "      <th>3</th>\n",
       "      <td>RS_1</td>\n",
       "      <td>Hotel Empire</td>\n",
       "      <td>Brigade Road</td>\n",
       "      <td>empire special chicken kebab</td>\n",
       "      <td>105</td>\n",
       "      <td>10000.0</td>\n",
       "      <td>North Indian</td>\n",
       "    </tr>\n",
       "    <tr>\n",
       "      <th>4</th>\n",
       "      <td>RS_1</td>\n",
       "      <td>Hotel Empire</td>\n",
       "      <td>Brigade Road</td>\n",
       "      <td>bucket chicken biriyani</td>\n",
       "      <td>1199</td>\n",
       "      <td>10000.0</td>\n",
       "      <td>Biryani</td>\n",
       "    </tr>\n",
       "  </tbody>\n",
       "</table>\n",
       "</div>"
      ],
      "text/plain": [
       "  Rs_ID       RS_Name   RS_Location                     Dish_Name Dish_Price  \\\n",
       "0  RS_1  Hotel Empire  Brigade Road   empire special chilly kebab        120   \n",
       "1  RS_1  Hotel Empire  Brigade Road         popcorn chicken kebab        134   \n",
       "2  RS_1  Hotel Empire  Brigade Road               grilled chicken        210   \n",
       "3  RS_1  Hotel Empire  Brigade Road  empire special chicken kebab        105   \n",
       "4  RS_1  Hotel Empire  Brigade Road       bucket chicken biriyani       1199   \n",
       "\n",
       "   Rs_Ratings_Received (Num.)      Category  \n",
       "0                     10000.0  North Indian  \n",
       "1                     10000.0  North Indian  \n",
       "2                     10000.0           NaN  \n",
       "3                     10000.0  North Indian  \n",
       "4                     10000.0       Biryani  "
      ]
     },
     "execution_count": 45,
     "metadata": {},
     "output_type": "execute_result"
    }
   ],
   "source": [
    "def get_category(dish):\n",
    "    if dish in south:\n",
    "        return 'South Indian'\n",
    "    elif dish in biryani:\n",
    "        return 'Biryani'\n",
    "    elif dish in fast:\n",
    "        return 'Fast Food'\n",
    "    elif dish in north:\n",
    "        return 'North Indian'\n",
    "    elif dish in chinese:\n",
    "        return 'Chinese'\n",
    "    elif dish in beverage:\n",
    "        return 'Beverage'\n",
    "    elif dish in desserts:\n",
    "        return 'Dessert'\n",
    "    else:\n",
    "        return np.nan\n",
    "\n",
    "df['Category'] = df['Dish_Name'].apply(get_category)\n",
    "\n",
    "df.head()\n"
   ]
  },
  {
   "cell_type": "code",
   "execution_count": 46,
   "id": "02ec64cc",
   "metadata": {},
   "outputs": [
    {
     "data": {
      "text/plain": [
       "Rs_ID                             0\n",
       "RS_Name                           0\n",
       "RS_Location                       0\n",
       "Dish_Name                         0\n",
       "Dish_Price                        0\n",
       "Rs_Ratings_Received (Num.)        0\n",
       "Category                      12950\n",
       "dtype: int64"
      ]
     },
     "execution_count": 46,
     "metadata": {},
     "output_type": "execute_result"
    }
   ],
   "source": [
    "df.isna().sum()"
   ]
  },
  {
   "cell_type": "code",
   "execution_count": 31,
   "id": "fc8d7bc4",
   "metadata": {},
   "outputs": [],
   "source": [
    "df.drop('Dish_category', axis = 1, inplace = True)"
   ]
  },
  {
   "cell_type": "code",
   "execution_count": 32,
   "id": "7dd3c48f",
   "metadata": {},
   "outputs": [
    {
     "data": {
      "text/html": [
       "<div>\n",
       "<style scoped>\n",
       "    .dataframe tbody tr th:only-of-type {\n",
       "        vertical-align: middle;\n",
       "    }\n",
       "\n",
       "    .dataframe tbody tr th {\n",
       "        vertical-align: top;\n",
       "    }\n",
       "\n",
       "    .dataframe thead th {\n",
       "        text-align: right;\n",
       "    }\n",
       "</style>\n",
       "<table border=\"1\" class=\"dataframe\">\n",
       "  <thead>\n",
       "    <tr style=\"text-align: right;\">\n",
       "      <th></th>\n",
       "      <th>Rs_ID</th>\n",
       "      <th>RS_Name</th>\n",
       "      <th>RS_Location</th>\n",
       "      <th>Dish_Name</th>\n",
       "      <th>Dish_Price</th>\n",
       "      <th>Rs_Ratings_Received (Num.)</th>\n",
       "      <th>Category</th>\n",
       "    </tr>\n",
       "  </thead>\n",
       "  <tbody>\n",
       "    <tr>\n",
       "      <th>0</th>\n",
       "      <td>RS_1</td>\n",
       "      <td>Hotel Empire</td>\n",
       "      <td>Brigade Road</td>\n",
       "      <td>empire special chilly kebab</td>\n",
       "      <td>120</td>\n",
       "      <td>10000.000000</td>\n",
       "      <td>North Indian</td>\n",
       "    </tr>\n",
       "    <tr>\n",
       "      <th>1</th>\n",
       "      <td>RS_1</td>\n",
       "      <td>Hotel Empire</td>\n",
       "      <td>Brigade Road</td>\n",
       "      <td>popcorn chicken kebab</td>\n",
       "      <td>134</td>\n",
       "      <td>10000.000000</td>\n",
       "      <td>North Indian</td>\n",
       "    </tr>\n",
       "    <tr>\n",
       "      <th>2</th>\n",
       "      <td>RS_1</td>\n",
       "      <td>Hotel Empire</td>\n",
       "      <td>Brigade Road</td>\n",
       "      <td>grilled chicken</td>\n",
       "      <td>210</td>\n",
       "      <td>10000.000000</td>\n",
       "      <td></td>\n",
       "    </tr>\n",
       "    <tr>\n",
       "      <th>3</th>\n",
       "      <td>RS_1</td>\n",
       "      <td>Hotel Empire</td>\n",
       "      <td>Brigade Road</td>\n",
       "      <td>empire special chicken kebab</td>\n",
       "      <td>105</td>\n",
       "      <td>10000.000000</td>\n",
       "      <td>North Indian</td>\n",
       "    </tr>\n",
       "    <tr>\n",
       "      <th>4</th>\n",
       "      <td>RS_1</td>\n",
       "      <td>Hotel Empire</td>\n",
       "      <td>Brigade Road</td>\n",
       "      <td>bucket chicken biriyani</td>\n",
       "      <td>1199</td>\n",
       "      <td>10000.000000</td>\n",
       "      <td></td>\n",
       "    </tr>\n",
       "    <tr>\n",
       "      <th>...</th>\n",
       "      <td>...</td>\n",
       "      <td>...</td>\n",
       "      <td>...</td>\n",
       "      <td>...</td>\n",
       "      <td>...</td>\n",
       "      <td>...</td>\n",
       "      <td>...</td>\n",
       "    </tr>\n",
       "    <tr>\n",
       "      <th>26768</th>\n",
       "      <td>RS_1573</td>\n",
       "      <td>HOB-House of Bhatura</td>\n",
       "      <td>Koramangala</td>\n",
       "      <td>chole bhatura [2 pcs]</td>\n",
       "      <td>160</td>\n",
       "      <td>2803.407306</td>\n",
       "      <td></td>\n",
       "    </tr>\n",
       "    <tr>\n",
       "      <th>26769</th>\n",
       "      <td>RS_1573</td>\n",
       "      <td>HOB-House of Bhatura</td>\n",
       "      <td>Koramangala</td>\n",
       "      <td>extra bhatura</td>\n",
       "      <td>70</td>\n",
       "      <td>2803.407306</td>\n",
       "      <td></td>\n",
       "    </tr>\n",
       "    <tr>\n",
       "      <th>26770</th>\n",
       "      <td>RS_1573</td>\n",
       "      <td>HOB-House of Bhatura</td>\n",
       "      <td>Koramangala</td>\n",
       "      <td>extra chole</td>\n",
       "      <td>70</td>\n",
       "      <td>2803.407306</td>\n",
       "      <td></td>\n",
       "    </tr>\n",
       "    <tr>\n",
       "      <th>26771</th>\n",
       "      <td>RS_1573</td>\n",
       "      <td>HOB-House of Bhatura</td>\n",
       "      <td>Koramangala</td>\n",
       "      <td>extra pav</td>\n",
       "      <td>65</td>\n",
       "      <td>2803.407306</td>\n",
       "      <td></td>\n",
       "    </tr>\n",
       "    <tr>\n",
       "      <th>26772</th>\n",
       "      <td>RS_1573</td>\n",
       "      <td>HOB-House of Bhatura</td>\n",
       "      <td>Koramangala</td>\n",
       "      <td>pav bhaji</td>\n",
       "      <td>125</td>\n",
       "      <td>2803.407306</td>\n",
       "      <td></td>\n",
       "    </tr>\n",
       "  </tbody>\n",
       "</table>\n",
       "<p>26773 rows × 7 columns</p>\n",
       "</div>"
      ],
      "text/plain": [
       "         Rs_ID               RS_Name   RS_Location  \\\n",
       "0         RS_1          Hotel Empire  Brigade Road   \n",
       "1         RS_1          Hotel Empire  Brigade Road   \n",
       "2         RS_1          Hotel Empire  Brigade Road   \n",
       "3         RS_1          Hotel Empire  Brigade Road   \n",
       "4         RS_1          Hotel Empire  Brigade Road   \n",
       "...        ...                   ...           ...   \n",
       "26768  RS_1573  HOB-House of Bhatura   Koramangala   \n",
       "26769  RS_1573  HOB-House of Bhatura   Koramangala   \n",
       "26770  RS_1573  HOB-House of Bhatura   Koramangala   \n",
       "26771  RS_1573  HOB-House of Bhatura   Koramangala   \n",
       "26772  RS_1573  HOB-House of Bhatura   Koramangala   \n",
       "\n",
       "                          Dish_Name Dish_Price  Rs_Ratings_Received (Num.)  \\\n",
       "0       empire special chilly kebab        120                10000.000000   \n",
       "1             popcorn chicken kebab        134                10000.000000   \n",
       "2                   grilled chicken        210                10000.000000   \n",
       "3      empire special chicken kebab        105                10000.000000   \n",
       "4           bucket chicken biriyani       1199                10000.000000   \n",
       "...                             ...        ...                         ...   \n",
       "26768         chole bhatura [2 pcs]        160                 2803.407306   \n",
       "26769                 extra bhatura         70                 2803.407306   \n",
       "26770                   extra chole         70                 2803.407306   \n",
       "26771                     extra pav         65                 2803.407306   \n",
       "26772                     pav bhaji        125                 2803.407306   \n",
       "\n",
       "           Category  \n",
       "0      North Indian  \n",
       "1      North Indian  \n",
       "2                    \n",
       "3      North Indian  \n",
       "4                    \n",
       "...             ...  \n",
       "26768                \n",
       "26769                \n",
       "26770                \n",
       "26771                \n",
       "26772                \n",
       "\n",
       "[26773 rows x 7 columns]"
      ]
     },
     "execution_count": 32,
     "metadata": {},
     "output_type": "execute_result"
    }
   ],
   "source": [
    "df"
   ]
  },
  {
   "cell_type": "code",
   "execution_count": 47,
   "id": "59fe0568",
   "metadata": {},
   "outputs": [
    {
     "data": {
      "text/plain": [
       "Rs_ID                             0\n",
       "RS_Name                           0\n",
       "RS_Location                       0\n",
       "Dish_Name                         0\n",
       "Dish_Price                        0\n",
       "Rs_Ratings_Received (Num.)        0\n",
       "Category                      12950\n",
       "dtype: int64"
      ]
     },
     "execution_count": 47,
     "metadata": {},
     "output_type": "execute_result"
    }
   ],
   "source": [
    "df.isna().sum()"
   ]
  },
  {
   "cell_type": "code",
   "execution_count": 50,
   "id": "d2aff995",
   "metadata": {},
   "outputs": [],
   "source": [
    "df = df.dropna()"
   ]
  },
  {
   "cell_type": "code",
   "execution_count": 51,
   "id": "c082caf6",
   "metadata": {},
   "outputs": [
    {
     "data": {
      "text/plain": [
       "Rs_ID                         0\n",
       "RS_Name                       0\n",
       "RS_Location                   0\n",
       "Dish_Name                     0\n",
       "Dish_Price                    0\n",
       "Rs_Ratings_Received (Num.)    0\n",
       "Category                      0\n",
       "dtype: int64"
      ]
     },
     "execution_count": 51,
     "metadata": {},
     "output_type": "execute_result"
    }
   ],
   "source": [
    "df.isna().sum()"
   ]
  },
  {
   "cell_type": "code",
   "execution_count": 52,
   "id": "c48e11ac",
   "metadata": {},
   "outputs": [
    {
     "data": {
      "text/plain": [
       "(13823, 7)"
      ]
     },
     "execution_count": 52,
     "metadata": {},
     "output_type": "execute_result"
    }
   ],
   "source": [
    "df.shape"
   ]
  },
  {
   "cell_type": "code",
   "execution_count": 53,
   "id": "1a3ac512",
   "metadata": {},
   "outputs": [],
   "source": [
    "df.to_excel('Swiggy Table 2.xlsx', index=False)"
   ]
  },
  {
   "cell_type": "code",
   "execution_count": null,
   "id": "d042ee9a",
   "metadata": {},
   "outputs": [],
   "source": []
  }
 ],
 "metadata": {
  "kernelspec": {
   "display_name": "Python 3 (ipykernel)",
   "language": "python",
   "name": "python3"
  },
  "language_info": {
   "codemirror_mode": {
    "name": "ipython",
    "version": 3
   },
   "file_extension": ".py",
   "mimetype": "text/x-python",
   "name": "python",
   "nbconvert_exporter": "python",
   "pygments_lexer": "ipython3",
   "version": "3.11.2"
  }
 },
 "nbformat": 4,
 "nbformat_minor": 5
}
