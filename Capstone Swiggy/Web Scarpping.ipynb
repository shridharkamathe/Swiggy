{
 "cells": [
  {
   "cell_type": "code",
   "execution_count": 53,
   "id": "c1f22958",
   "metadata": {},
   "outputs": [],
   "source": [
    "from bs4 import BeautifulSoup\n",
    "import requests\n",
    "import pandas as pd\n",
    "import html5lib\n",
    "from urllib.request import Request,urlopen"
   ]
  },
  {
   "cell_type": "markdown",
   "id": "4b604743",
   "metadata": {},
   "source": [
    "# Table 1 Part"
   ]
  },
  {
   "cell_type": "code",
   "execution_count": 54,
   "id": "69bcb58e",
   "metadata": {},
   "outputs": [],
   "source": [
    "url=\"file:///C:/Users/Aksha/OneDrive/Desktop/Order%20food%20online%20from%20India's%20best%20food%20delivery%20service.%20Order%20from%20restaurants%20near%20you.html\""
   ]
  },
  {
   "cell_type": "code",
   "execution_count": 55,
   "id": "c66bf25e",
   "metadata": {},
   "outputs": [],
   "source": [
    "temp_ls_links=[]\n",
    "req = Request(url , headers={'User-agent': 'Chrome/5.'})\n",
    "webpage = urlopen(req).read()\n",
    "page_soup = BeautifulSoup(webpage, \"html.parser\")\n",
    "containers = page_soup.findAll(\"a\",\"_1j_Yo\")\n",
    "for container in containers:\n",
    "    temp_ls_links.append(container[\"href\"])\n",
    "    "
   ]
  },
  {
   "cell_type": "code",
   "execution_count": 56,
   "id": "21cc1bed",
   "metadata": {},
   "outputs": [
    {
     "data": {
      "text/plain": [
       "1576"
      ]
     },
     "execution_count": 56,
     "metadata": {},
     "output_type": "execute_result"
    }
   ],
   "source": [
    "len(temp_ls_links)"
   ]
  },
  {
   "cell_type": "code",
   "execution_count": 57,
   "id": "9fde12e1",
   "metadata": {},
   "outputs": [],
   "source": [
    "temp_ls_name=[]\n",
    "containers = page_soup.findAll(\"div\",\"nA6kb\")\n",
    "for container in containers:\n",
    "    temp_ls_name.append(container.text)"
   ]
  },
  {
   "cell_type": "code",
   "execution_count": 58,
   "id": "22ac3494",
   "metadata": {},
   "outputs": [
    {
     "data": {
      "text/plain": [
       "1576"
      ]
     },
     "execution_count": 58,
     "metadata": {},
     "output_type": "execute_result"
    }
   ],
   "source": [
    "len(temp_ls_name)"
   ]
  },
  {
   "cell_type": "code",
   "execution_count": 59,
   "id": "b77560e8",
   "metadata": {},
   "outputs": [],
   "source": [
    "temp_ls_cusion=[]\n",
    "containers = page_soup.findAll(\"div\",\"_1gURR\")\n",
    "for container in containers:\n",
    "    temp_ls_cusion.append(container.text)    "
   ]
  },
  {
   "cell_type": "code",
   "execution_count": 60,
   "id": "1dcaf1b5",
   "metadata": {},
   "outputs": [
    {
     "data": {
      "text/plain": [
       "1576"
      ]
     },
     "execution_count": 60,
     "metadata": {},
     "output_type": "execute_result"
    }
   ],
   "source": [
    "len(temp_ls_cusion)"
   ]
  },
  {
   "cell_type": "code",
   "execution_count": 61,
   "id": "2f0d3eaa",
   "metadata": {},
   "outputs": [],
   "source": [
    "temp_ls_rating=[]\n",
    "count=0\n",
    "containers = page_soup.findAll(\"div\",\"_3Mn31\")\n",
    "for container in containers:\n",
    "    temp_ls_rating.append(container.text)"
   ]
  },
  {
   "cell_type": "code",
   "execution_count": 62,
   "id": "04b42030",
   "metadata": {},
   "outputs": [
    {
     "data": {
      "text/plain": [
       "1576"
      ]
     },
     "execution_count": 62,
     "metadata": {},
     "output_type": "execute_result"
    }
   ],
   "source": [
    "len(temp_ls_rating)"
   ]
  },
  {
   "cell_type": "code",
   "execution_count": 63,
   "id": "b322d21f",
   "metadata": {},
   "outputs": [],
   "source": [
    "temp={\n",
    "   \"Link\": temp_ls_links,\n",
    "    \"Name\":temp_ls_name,\n",
    "    \"cusines\":temp_ls_cusion,\n",
    "    \"Rating\":temp_ls_rating       \n",
    "}"
   ]
  },
  {
   "cell_type": "code",
   "execution_count": 64,
   "id": "23698a58",
   "metadata": {},
   "outputs": [],
   "source": [
    "df=pd.DataFrame(temp).to_csv(\"swiggyDB1.csv\",index=False)"
   ]
  },
  {
   "cell_type": "markdown",
   "id": "025b2513",
   "metadata": {},
   "source": [
    "# Table 2 Part"
   ]
  },
  {
   "cell_type": "code",
   "execution_count": 65,
   "id": "297a66c6",
   "metadata": {},
   "outputs": [],
   "source": [
    "temp_ls_links_500=[]\n",
    "temp_ls_links_1000=[]"
   ]
  },
  {
   "cell_type": "code",
   "execution_count": 66,
   "id": "6cefd12c",
   "metadata": {},
   "outputs": [
    {
     "data": {
      "text/plain": [
       "1576"
      ]
     },
     "execution_count": 66,
     "metadata": {},
     "output_type": "execute_result"
    }
   ],
   "source": [
    "len(temp_ls_links)"
   ]
  },
  {
   "cell_type": "code",
   "execution_count": 67,
   "id": "b3f514b0",
   "metadata": {},
   "outputs": [],
   "source": [
    "# divide first 500 in other list\n",
    "for i in range(500):\n",
    "    temp_ls_links_500.append(temp_ls_links[i])\n",
    "    temp_ls_links.remove(temp_ls_links[i])    "
   ]
  },
  {
   "cell_type": "code",
   "execution_count": 68,
   "id": "6cab3998",
   "metadata": {},
   "outputs": [
    {
     "data": {
      "text/plain": [
       "500"
      ]
     },
     "execution_count": 68,
     "metadata": {},
     "output_type": "execute_result"
    }
   ],
   "source": [
    "len(temp_ls_links_500)"
   ]
  },
  {
   "cell_type": "code",
   "execution_count": 69,
   "id": "366177ad",
   "metadata": {},
   "outputs": [
    {
     "data": {
      "text/plain": [
       "1076"
      ]
     },
     "execution_count": 69,
     "metadata": {},
     "output_type": "execute_result"
    }
   ],
   "source": [
    "len(temp_ls_links)"
   ]
  },
  {
   "cell_type": "code",
   "execution_count": 70,
   "id": "6e13c2b0",
   "metadata": {},
   "outputs": [],
   "source": [
    "# divide other 500 in secound list\n",
    "for i in range(500):\n",
    "    temp_ls_links_1000.append(temp_ls_links[i])\n",
    "    temp_ls_links.remove(temp_ls_links[i]) "
   ]
  },
  {
   "cell_type": "code",
   "execution_count": 71,
   "id": "0ff2d244",
   "metadata": {},
   "outputs": [
    {
     "data": {
      "text/plain": [
       "500"
      ]
     },
     "execution_count": 71,
     "metadata": {},
     "output_type": "execute_result"
    }
   ],
   "source": [
    "len(temp_ls_links_1000)"
   ]
  },
  {
   "cell_type": "code",
   "execution_count": 72,
   "id": "311e877a",
   "metadata": {},
   "outputs": [],
   "source": [
    "#lists creating\n",
    "teble2_avg_delivery_time=[]\n",
    "link2_store=[]\n",
    "dishes_details=[]\n",
    "teble2_rating_received_number=[]\n",
    "dishes_details_dummy=[]"
   ]
  },
  {
   "cell_type": "code",
   "execution_count": 77,
   "id": "8ae06168",
   "metadata": {},
   "outputs": [
    {
     "name": "stdout",
     "output_type": "stream",
     "text": [
      "Error 403: Access denied\n",
      "https://www.swiggy.com/restaurants/a-naidus-ootada-mane-binnamangala-indiranagar-bangalore-275137\n",
      "Error 403: Access denied\n",
      "https://www.swiggy.com/restaurants/a-k-karnataka-fast-food-bowee-street-halasuru-bangalore-515929\n"
     ]
    }
   ],
   "source": [
    "# temp_ls_links_500  rs_links 0-500\n",
    "# temp_ls_links_1000 rs_links 500-1000\n",
    "# temp_ls_links  rs_links 1000-1576\n",
    "\n",
    "# Set the user-agent header\n",
    "headers = {\n",
    "    'User-Agent': 'Mozilla/5.0 (Windows NT 10.0; Win64; x64) AppleWebKit/537.36 (KHTML, like Gecko) Chrome/58.0.3029.110 Safari/537.36'\n",
    "}\n",
    "\n",
    "# Make a request to the website\n",
    "for url in temp_ls_links_1000:\n",
    "    response = requests.get(url, headers=headers)\n",
    "    \n",
    "    # Check for a 403 error\n",
    "    if response.status_code == 403:\n",
    "        print('Error 403: Access denied')\n",
    "#         print(response.error_status)\n",
    "        print(url)\n",
    "    else:\n",
    "        # Parse the HTML content using BeautifulSoup\n",
    "        soup = BeautifulSoup(response.content, 'html.parser')\n",
    "        link2_store.append(url)\n",
    "    \n",
    "        rating_received_number = soup.findAll(\"span\",\"RestaurantRatings_totalRatings__3d6Zc\")\n",
    "        for i in rating_received_number:\n",
    "            teble2_rating_received_number.append(i.text)   \n",
    "            \n",
    "        temp= soup.findAll(\"div\",\"styles_detailsContainer__22vh8\")\n",
    "        for i in temp:\n",
    "            dishes_details_dummy.append(i.text)\n",
    "            \n",
    "        dishes_details.append(dishes_details_dummy)      "
   ]
  },
  {
   "cell_type": "code",
   "execution_count": 78,
   "id": "6c50ff09",
   "metadata": {},
   "outputs": [],
   "source": [
    "#dictionary creating\n",
    "table2_dic={ \n",
    "        \"link\":link2_store,\n",
    "        \"Rs_Rating\":teble2_rating_received_number,\n",
    "        \"dishes_details\":dishes_details      \n",
    "    } "
   ]
  },
  {
   "cell_type": "code",
   "execution_count": 79,
   "id": "2b35dc99",
   "metadata": {},
   "outputs": [
    {
     "data": {
      "text/plain": [
       "(998, 3)"
      ]
     },
     "execution_count": 79,
     "metadata": {},
     "output_type": "execute_result"
    }
   ],
   "source": [
    "#csv files creating\n",
    "pd.DataFrame(table2_dic).to_csv(\"table2.2.csv\",index=False)\n",
    "pd.DataFrame(table2_dic).shape"
   ]
  },
  {
   "cell_type": "code",
   "execution_count": 89,
   "id": "7a6dbffc",
   "metadata": {},
   "outputs": [],
   "source": [
    "# pd.read_csv(\"table2.3.csv\")\n",
    "# pd.read_csv(\"table2.1.csv\")\n",
    "df=pd.read_csv(r\"C:\\Users\\Aksha\\Downloads\\table2.2.csv\")"
   ]
  },
  {
   "cell_type": "code",
   "execution_count": 90,
   "id": "ae10b3cc",
   "metadata": {},
   "outputs": [
    {
     "data": {
      "text/plain": [
       "(998, 3)"
      ]
     },
     "execution_count": 90,
     "metadata": {},
     "output_type": "execute_result"
    }
   ],
   "source": [
    "df.shape"
   ]
  },
  {
   "cell_type": "code",
   "execution_count": null,
   "id": "1375e94e",
   "metadata": {},
   "outputs": [],
   "source": []
  },
  {
   "cell_type": "code",
   "execution_count": null,
   "id": "83253af6",
   "metadata": {},
   "outputs": [],
   "source": []
  },
  {
   "cell_type": "code",
   "execution_count": null,
   "id": "e3219057",
   "metadata": {},
   "outputs": [],
   "source": []
  },
  {
   "cell_type": "code",
   "execution_count": null,
   "id": "894df1bb",
   "metadata": {},
   "outputs": [],
   "source": []
  },
  {
   "cell_type": "code",
   "execution_count": null,
   "id": "67a99dbd",
   "metadata": {},
   "outputs": [],
   "source": []
  },
  {
   "cell_type": "code",
   "execution_count": null,
   "id": "a93c77b6",
   "metadata": {},
   "outputs": [],
   "source": []
  },
  {
   "cell_type": "code",
   "execution_count": null,
   "id": "f5d757dd",
   "metadata": {},
   "outputs": [],
   "source": []
  },
  {
   "cell_type": "code",
   "execution_count": null,
   "id": "f8068d0b",
   "metadata": {},
   "outputs": [],
   "source": []
  },
  {
   "cell_type": "code",
   "execution_count": null,
   "id": "84fa96a3",
   "metadata": {},
   "outputs": [],
   "source": []
  },
  {
   "cell_type": "code",
   "execution_count": null,
   "id": "7c9e8f65",
   "metadata": {},
   "outputs": [],
   "source": []
  },
  {
   "cell_type": "code",
   "execution_count": null,
   "id": "f7fe3433",
   "metadata": {},
   "outputs": [],
   "source": []
  },
  {
   "cell_type": "code",
   "execution_count": null,
   "id": "1981d5b9",
   "metadata": {},
   "outputs": [],
   "source": [
    "\n",
    " "
   ]
  }
 ],
 "metadata": {
  "kernelspec": {
   "display_name": "Python 3 (ipykernel)",
   "language": "python",
   "name": "python3"
  },
  "language_info": {
   "codemirror_mode": {
    "name": "ipython",
    "version": 3
   },
   "file_extension": ".py",
   "mimetype": "text/x-python",
   "name": "python",
   "nbconvert_exporter": "python",
   "pygments_lexer": "ipython3",
   "version": "3.11.2"
  }
 },
 "nbformat": 4,
 "nbformat_minor": 5
}
